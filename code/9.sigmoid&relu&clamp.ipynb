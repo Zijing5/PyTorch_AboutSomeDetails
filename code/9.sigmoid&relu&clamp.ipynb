{
 "cells": [
  {
   "cell_type": "code",
   "execution_count": 3,
   "metadata": {
    "collapsed": true
   },
   "outputs": [],
   "source": [
    "import numpy as np\n",
    "import matplotlib.pyplot as plt\n",
    "import torch\n",
    "from torch import nn"
   ]
  },
  {
   "cell_type": "markdown",
   "metadata": {},
   "source": [
    "- σ(x)容易导致梯度消失\n",
    "- relu(x)部分改善梯度消失\n",
    "    - 会导致稀疏表示sparse representation\n",
    "    - dying relu/ dead neuron\n",
    "- torch.clamp(x, min, max)\n",
    "    - relu/clamp的gradient都是0-1组成的mask tensor"
   ]
  },
  {
   "cell_type": "markdown",
   "metadata": {},
   "source": [
    "- $\\sigma(x)(1-\\sigma(x))$  **反向梯度链式法则计算，连乘导致越来越小**"
   ]
  },
  {
   "cell_type": "code",
   "execution_count": 4,
   "metadata": {},
   "outputs": [
    {
     "data": {
      "text/plain": [
       "tensor([[-0.6969, -0.2325,  1.2014, -0.9012],\n",
       "        [-0.5177, -0.3649,  0.4428,  0.1119],\n",
       "        [ 0.2828,  1.0449,  0.8982, -0.7627]], grad_fn=<AddmmBackward0>)"
      ]
     },
     "execution_count": 4,
     "metadata": {},
     "output_type": "execute_result"
    }
   ],
   "source": [
    "x = torch.normal(0,1,(3,5))\n",
    "w = nn.Linear(5,4)\n",
    "w(x)"
   ]
  },
  {
   "cell_type": "code",
   "execution_count": 5,
   "metadata": {},
   "outputs": [
    {
     "data": {
      "text/plain": [
       "tensor([[0.0000, 0.0000, 1.2014, 0.0000],\n",
       "        [0.0000, 0.0000, 0.4428, 0.1119],\n",
       "        [0.2828, 1.0449, 0.8982, 0.0000]], grad_fn=<ReluBackward0>)"
      ]
     },
     "execution_count": 5,
     "metadata": {},
     "output_type": "execute_result"
    }
   ],
   "source": [
    "torch.relu(w(x))"
   ]
  },
  {
   "cell_type": "markdown",
   "metadata": {},
   "source": [
    "异常输入——>大的relu输出——>反向传播大的梯度——>反向更新后，输出变成负数——>gradient变为零"
   ]
  },
  {
   "cell_type": "markdown",
   "metadata": {},
   "source": [
    "torch.clamp(x, min, max)"
   ]
  },
  {
   "cell_type": "markdown",
   "metadata": {},
   "source": [
    "$$y^{'}=\n",
    "\\left \\{ \\begin{matrix}\n",
    " &0 ,&x<xmin \\\\ \n",
    " &1 ,&xmin<x<xmax\\\\\n",
    " &0 ,&x>xmin\n",
    "\\end{matrix} \\right.\n",
    "$$\n"
   ]
  },
  {
   "cell_type": "code",
   "execution_count": null,
   "metadata": {
    "collapsed": true
   },
   "outputs": [],
   "source": []
  },
  {
   "cell_type": "code",
   "execution_count": 56,
   "metadata": {},
   "outputs": [
    {
     "name": "stdout",
     "output_type": "stream",
     "text": [
      "tensor([[1., 2., 3.]], requires_grad=True)\n",
      "tensor([[ 1.],\n",
      "        [-2.],\n",
      "        [ 3.]], requires_grad=True)\n",
      "tensor([[6.]], grad_fn=<MmBackward0>)\n",
      "tensor([[6.]], grad_fn=<ClampBackward1>)\n"
     ]
    }
   ],
   "source": [
    "x = torch.tensor([[1.,2.,3.],\n",
    "          ],requires_grad=True)\n",
    "print(x)\n",
    "w = torch.tensor([[1.],[-2.],[3.]],requires_grad=True)\n",
    "print(w)\n",
    "z = torch.matmul(x, w)\n",
    "print(z)\n",
    "y = torch.clamp(z,-8,8)\n",
    "print(y)\n",
    "y.sum().backward()"
   ]
  },
  {
   "cell_type": "code",
   "execution_count": 57,
   "metadata": {},
   "outputs": [
    {
     "data": {
      "text/plain": [
       "tensor([[1.],\n",
       "        [2.],\n",
       "        [3.]])"
      ]
     },
     "execution_count": 57,
     "metadata": {},
     "output_type": "execute_result"
    }
   ],
   "source": [
    "w.grad"
   ]
  },
  {
   "cell_type": "code",
   "execution_count": 58,
   "metadata": {},
   "outputs": [
    {
     "data": {
      "text/plain": [
       "tensor([[ 1., -2.,  3.]])"
      ]
     },
     "execution_count": 58,
     "metadata": {},
     "output_type": "execute_result"
    }
   ],
   "source": [
    "x.grad"
   ]
  },
  {
   "cell_type": "code",
   "execution_count": 51,
   "metadata": {},
   "outputs": [
    {
     "name": "stdout",
     "output_type": "stream",
     "text": [
      "tensor([[ 1.,  2.,  3.],\n",
      "        [ 4.,  5.,  6.],\n",
      "        [ 5.,  3.,  2.],\n",
      "        [ 2., -1.,  6.]], requires_grad=True)\n",
      "tensor([[ 1.],\n",
      "        [-2.],\n",
      "        [ 3.]], requires_grad=True)\n",
      "tensor([[ 6.],\n",
      "        [12.],\n",
      "        [ 5.],\n",
      "        [22.]], grad_fn=<MmBackward0>)\n",
      "tensor([[6.],\n",
      "        [8.],\n",
      "        [5.],\n",
      "        [8.]], grad_fn=<ClampBackward1>)\n"
     ]
    }
   ],
   "source": [
    "x = torch.tensor([[1.,2.,3.],\n",
    "               [4.,5.,6.],\n",
    "                [5.,3.,2],\n",
    "                 [2,-1,6] ],requires_grad=True)\n",
    "print(x)\n",
    "w = torch.tensor([[1.],[-2.],[3.]],requires_grad=True)\n",
    "print(w)\n",
    "z = torch.matmul(x, w)\n",
    "print(z)\n",
    "y = torch.clamp(z,-8,8)\n",
    "print(y)\n",
    "y.sum().backward()"
   ]
  },
  {
   "cell_type": "code",
   "execution_count": 52,
   "metadata": {},
   "outputs": [
    {
     "data": {
      "text/plain": [
       "(tensor([[6.],\n",
       "         [5.],\n",
       "         [5.]]),\n",
       " tensor([[ 1., -2.,  3.],\n",
       "         [ 0., -0.,  0.],\n",
       "         [ 1., -2.,  3.],\n",
       "         [ 0., -0.,  0.]]))"
      ]
     },
     "execution_count": 52,
     "metadata": {},
     "output_type": "execute_result"
    }
   ],
   "source": [
    "w.grad, x.grad"
   ]
  },
  {
   "cell_type": "code",
   "execution_count": null,
   "metadata": {
    "collapsed": true
   },
   "outputs": [],
   "source": []
  }
 ],
 "metadata": {
  "kernelspec": {
   "display_name": "pytorch1_13",
   "language": "python",
   "name": "pytorch1_13"
  },
  "language_info": {
   "codemirror_mode": {
    "name": "ipython",
    "version": 3
   },
   "file_extension": ".py",
   "mimetype": "text/x-python",
   "name": "python",
   "nbconvert_exporter": "python",
   "pygments_lexer": "ipython3",
   "version": "3.8.16"
  }
 },
 "nbformat": 4,
 "nbformat_minor": 2
}
