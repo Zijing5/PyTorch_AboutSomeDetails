{
 "cells": [
  {
   "cell_type": "markdown",
   "metadata": {},
   "source": [
    "# 3. 优化器与参数更新\n",
    "## forward & backward"
   ]
  },
  {
   "cell_type": "markdown",
   "metadata": {},
   "source": [
    "- forward pass:compute loss\n",
    "    loss = f(g(h(x))) #记录每一个节点的值\n",
    "- compute local gradients\n",
    "    - loss.backward():\n",
    "        - compute all nodes(if the node satisfy requires_grad == True，非叶子叶节也满足)\n",
    "        - backward pass , dLoss/dWeights\n",
    "        - x.grad += dloss/dx: Chain Rule\n",
    "- backward pass: compute dLoss/dWeights using the Chain Rule\n",
    "    - optimizer.step()\n",
    "        - x += -lr*x.grad() # a learning process\n",
    "        - commonly, optim.zero_grad()——>loss.backward() # 在每个batch之前"
   ]
  },
  {
   "cell_type": "code",
   "execution_count": 1,
   "metadata": {
    "collapsed": true
   },
   "outputs": [],
   "source": [
    "import torch\n",
    "import numpy\n",
    "from torch. import nn"
   ]
  },
  {
   "cell_type": "code",
   "execution_count": 3,
   "metadata": {},
   "outputs": [],
   "source": [
    "# criterion = nn.XXLoss()\n",
    "# model = nn.XXNet()\n",
    "# optimizer = torch.optim.Adam(model.parameters(),lr=0.001) # 只优化模型参数\n",
    "# for _ in range(epochs):\n",
    "#     for images, labels in data_loader:\n",
    "#         output = model(images)\n",
    "#         loss = criterion(output, label)\n",
    "#         loss.zero_grad() # 对所有requires_grad==True 节点梯度清零\n",
    "#         loss.backward() # 对所有requires_grad==True 节点反向传播\n",
    "#         optimizer.step() # 对模型参数进行优化 model.parameters() -= lr*model.parameters()\n",
    "        "
   ]
  },
  {
   "cell_type": "markdown",
   "metadata": {},
   "source": [
    "### 举个例子"
   ]
  },
  {
   "cell_type": "code",
   "execution_count": 8,
   "metadata": {},
   "outputs": [],
   "source": [
    "x = torch.tensor([1.,3],requires_grad=True)\n",
    "w1 = torch.tensor([1.,1.],requires_grad=True)\n",
    "y = w1*x\n",
    "loss = y.sum()\n",
    "optimizer = torch.optim.SGD([w1],lr=0.01)\n",
    "optimizer.zero_grad() # 优化器优化方向每次都要清零\n",
    "loss.backward()\n",
    "optimizer.step()"
   ]
  },
  {
   "cell_type": "code",
   "execution_count": 10,
   "metadata": {},
   "outputs": [
    {
     "data": {
      "text/plain": [
       "tensor([1., 3.], requires_grad=True)"
      ]
     },
     "execution_count": 10,
     "metadata": {},
     "output_type": "execute_result"
    }
   ],
   "source": [
    "x # 不是模型更新参数"
   ]
  },
  {
   "cell_type": "code",
   "execution_count": 11,
   "metadata": {},
   "outputs": [
    {
     "data": {
      "text/plain": [
       "tensor([0.9900, 0.9700], requires_grad=True)"
      ]
     },
     "execution_count": 11,
     "metadata": {},
     "output_type": "execute_result"
    }
   ],
   "source": [
    "w1"
   ]
  },
  {
   "cell_type": "code",
   "execution_count": 12,
   "metadata": {},
   "outputs": [
    {
     "data": {
      "text/plain": [
       "tensor([1., 3.])"
      ]
     },
     "execution_count": 12,
     "metadata": {},
     "output_type": "execute_result"
    }
   ],
   "source": [
    "w1.grad"
   ]
  },
  {
   "cell_type": "code",
   "execution_count": 17,
   "metadata": {},
   "outputs": [
    {
     "data": {
      "text/plain": [
       "tensor([True, True])"
      ]
     },
     "execution_count": 17,
     "metadata": {},
     "output_type": "execute_result"
    }
   ],
   "source": [
    "torch.tensor([1.,1.],requires_grad=True)-w1.grad*0.01 ==w1"
   ]
  }
 ],
 "metadata": {
  "kernelspec": {
   "display_name": "pytorch1_13",
   "language": "python",
   "name": "pytorch1_13"
  },
  "language_info": {
   "codemirror_mode": {
    "name": "ipython",
    "version": 3
   },
   "file_extension": ".py",
   "mimetype": "text/x-python",
   "name": "python",
   "nbconvert_exporter": "python",
   "pygments_lexer": "ipython3",
   "version": "3.8.16"
  }
 },
 "nbformat": 4,
 "nbformat_minor": 2
}
