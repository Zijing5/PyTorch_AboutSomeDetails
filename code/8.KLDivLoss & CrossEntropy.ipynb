{
 "cells": [
  {
   "cell_type": "markdown",
   "metadata": {},
   "source": [
    "- Entropy: # 熵\n",
    "\n",
    "$$ H(p)=-\\sum_{i}p_{i}logp_{i} $$\n",
    "\n",
    "\n",
    "- CrossEntropy\n",
    "\n",
    "$$ H(p,q)=-\\sum_{i}p_{i}logq_{i} $$\n",
    "\n",
    "- KL Divergence # 相对熵\n",
    "$$\n",
    "\\begin{align}\n",
    " D_{kl}(p||q)&=\\sum_{i}p_{i}log\\frac{p_{i}}{q_{i}} \\\\\n",
    "               &=H(p,q)-H(p) \n",
    "\\end{align}\n",
    "$$\n",
    "\n",
    "KL散度在机器学习中退化成log loss"
   ]
  },
  {
   "cell_type": "markdown",
   "metadata": {},
   "source": [
    "- nn.KLDivLoss(reduction='batchmean')的api:\n",
    "    - (input_log_softmax, target_shaped) # 首先标签和预测值都需要先取softmax变成概率分布，input预测值还默认需要log\n",
    "- nn.CrossEntropyLoss()\n",
    "    - ()"
   ]
  },
  {
   "cell_type": "markdown",
   "metadata": {},
   "source": [
    "## e.g.1"
   ]
  },
  {
   "cell_type": "code",
   "execution_count": 1,
   "metadata": {
    "collapsed": true
   },
   "outputs": [],
   "source": [
    "import torch\n",
    "from torch import nn\n",
    "import torch.nn.functional as F"
   ]
  },
  {
   "cell_type": "code",
   "execution_count": 2,
   "metadata": {
    "collapsed": true
   },
   "outputs": [],
   "source": [
    "kl_loss = nn.KLDivLoss(reduction='batchmean')"
   ]
  },
  {
   "cell_type": "code",
   "execution_count": 7,
   "metadata": {},
   "outputs": [],
   "source": [
    "inputs = torch.log(torch.FloatTensor([[1/3,1/3,1/3]])) #预测值q\n",
    "target = torch.FloatTensor([[9/25,12/25,4/25]]) # 样本标签p"
   ]
  },
  {
   "cell_type": "code",
   "execution_count": 8,
   "metadata": {},
   "outputs": [
    {
     "data": {
      "text/plain": [
       "tensor(0.0853)"
      ]
     },
     "execution_count": 8,
     "metadata": {},
     "output_type": "execute_result"
    }
   ],
   "source": [
    "kl_loss(inputs, target) # Dkl(p||q)  两顺序排列是相反的"
   ]
  },
  {
   "cell_type": "markdown",
   "metadata": {},
   "source": [
    "## e.g.2"
   ]
  },
  {
   "cell_type": "code",
   "execution_count": 39,
   "metadata": {
    "collapsed": true
   },
   "outputs": [],
   "source": [
    "kl_loss = nn.KLDivLoss(reduction='batchmean')\n",
    "ce_loss = nn.CrossEntropyLoss()"
   ]
  },
  {
   "cell_type": "code",
   "execution_count": 40,
   "metadata": {},
   "outputs": [
    {
     "data": {
      "text/plain": [
       "(tensor([[ 0.8955,  0.3146,  0.0945, -1.3011, -0.4158],\n",
       "         [ 0.7525, -1.0168, -0.9943,  0.0556, -1.4012],\n",
       "         [ 0.7580, -0.2224, -2.3352, -0.9218,  1.0977]], requires_grad=True),\n",
       " tensor([0, 4, 1]))"
      ]
     },
     "execution_count": 40,
     "metadata": {},
     "output_type": "execute_result"
    }
   ],
   "source": [
    "inputs = torch.randn(3,5, requires_grad=True) # batch=3\n",
    "target = torch.empty(3, dtype=torch.long).random_(5) # 样本标签\n",
    "inputs, target"
   ]
  },
  {
   "cell_type": "code",
   "execution_count": 41,
   "metadata": {},
   "outputs": [
    {
     "data": {
      "text/plain": [
       "tensor(1.9266, grad_fn=<NllLossBackward0>)"
      ]
     },
     "execution_count": 41,
     "metadata": {},
     "output_type": "execute_result"
    }
   ],
   "source": [
    "ce = ce_loss(inputs, target)\n",
    "ce"
   ]
  },
  {
   "cell_type": "code",
   "execution_count": 42,
   "metadata": {},
   "outputs": [
    {
     "data": {
      "text/plain": [
       "tensor([[-0.8708, -1.4517, -1.6719, -3.0674, -2.1821],\n",
       "        [-0.6724, -2.4417, -2.4192, -1.3693, -2.8261],\n",
       "        [-1.1025, -2.0828, -4.1956, -2.7822, -0.7627]],\n",
       "       grad_fn=<LogSoftmaxBackward0>)"
      ]
     },
     "execution_count": 42,
     "metadata": {},
     "output_type": "execute_result"
    }
   ],
   "source": [
    "inputs_log_softmax = F.log_softmax(inputs, dim=1) #先对行作softmax再取log\n",
    "inputs_log_softmax"
   ]
  },
  {
   "cell_type": "code",
   "execution_count": 47,
   "metadata": {
    "collapsed": true
   },
   "outputs": [],
   "source": [
    "target_shaped=torch.FloatTensor([[1,0,0,0,0],\n",
    "                                 [0,0,0,0,1],\n",
    "                                 [0,1,0,0,0]])"
   ]
  },
  {
   "cell_type": "code",
   "execution_count": 48,
   "metadata": {},
   "outputs": [
    {
     "data": {
      "text/plain": [
       "tensor(1.9266, grad_fn=<DivBackward0>)"
      ]
     },
     "execution_count": 48,
     "metadata": {},
     "output_type": "execute_result"
    }
   ],
   "source": [
    "kl_loss(inputs_log_softmax,target_shaped)"
   ]
  },
  {
   "cell_type": "code",
   "execution_count": 51,
   "metadata": {},
   "outputs": [
    {
     "data": {
      "text/plain": [
       "tensor(1.9266, grad_fn=<DivBackward1>)"
      ]
     },
     "execution_count": 51,
     "metadata": {},
     "output_type": "execute_result"
    }
   ],
   "source": [
    "ce_loss(inputs,target_shaped)"
   ]
  },
  {
   "cell_type": "code",
   "execution_count": 50,
   "metadata": {},
   "outputs": [
    {
     "data": {
      "text/plain": [
       "tensor(1.0218, grad_fn=<SubBackward0>)"
      ]
     },
     "execution_count": 50,
     "metadata": {},
     "output_type": "execute_result"
    }
   ],
   "source": [
    "# ce_loss(inputs, target)-ce_loss(target_shaped, target)"
   ]
  },
  {
   "cell_type": "code",
   "execution_count": null,
   "metadata": {
    "collapsed": true
   },
   "outputs": [],
   "source": []
  }
 ],
 "metadata": {
  "kernelspec": {
   "display_name": "pytorch1_13",
   "language": "python",
   "name": "pytorch1_13"
  },
  "language_info": {
   "codemirror_mode": {
    "name": "ipython",
    "version": 3
   },
   "file_extension": ".py",
   "mimetype": "text/x-python",
   "name": "python",
   "nbconvert_exporter": "python",
   "pygments_lexer": "ipython3",
   "version": "3.8.16"
  }
 },
 "nbformat": 4,
 "nbformat_minor": 2
}
